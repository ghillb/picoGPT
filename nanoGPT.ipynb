{
 "cells": [
  {
   "attachments": {},
   "cell_type": "markdown",
   "metadata": {},
   "source": [
    "# https://jaykmody.com/blog/gpt-from-scratch"
   ]
  },
  {
   "cell_type": "code",
   "execution_count": 1,
   "metadata": {},
   "outputs": [
    {
     "name": "stderr",
     "output_type": "stream",
     "text": [
      "2023-02-12 18:58:52.783854: I tensorflow/core/platform/cpu_feature_guard.cc:193] This TensorFlow binary is optimized with oneAPI Deep Neural Network Library (oneDNN) to use the following CPU instructions in performance-critical operations:  SSE4.1 SSE4.2 AVX AVX2 AVX512F AVX512_VNNI FMA\n",
      "To enable them in other operations, rebuild TensorFlow with the appropriate compiler flags.\n",
      "2023-02-12 18:58:52.896682: I tensorflow/core/util/port.cc:104] oneDNN custom operations are on. You may see slightly different numerical results due to floating-point round-off errors from different computation orders. To turn them off, set the environment variable `TF_ENABLE_ONEDNN_OPTS=0`.\n"
     ]
    }
   ],
   "source": [
    "from utils import load_encoder_hparams_and_params\n",
    "encoder, hparams, params = load_encoder_hparams_and_params(\"124M\", \"models\")"
   ]
  },
  {
   "cell_type": "code",
   "execution_count": 2,
   "metadata": {},
   "outputs": [
    {
     "data": {
      "text/plain": [
       "[3673, 477, 10281, 5806, 1451, 274, 13]"
      ]
     },
     "execution_count": 2,
     "metadata": {},
     "output_type": "execute_result"
    }
   ],
   "source": [
    "# BPE tokenizer used by GPT-2\n",
    "\n",
    "ids = encoder.encode(\"Not all heroes wear capes.\")\n",
    "ids"
   ]
  },
  {
   "cell_type": "code",
   "execution_count": 3,
   "metadata": {},
   "outputs": [
    {
     "data": {
      "text/plain": [
       "['Not', 'Ġall', 'Ġheroes', 'Ġwear', 'Ġcap', 'es', '.']"
      ]
     },
     "execution_count": 3,
     "metadata": {},
     "output_type": "execute_result"
    }
   ],
   "source": [
    "[encoder.decoder[i] for i in ids]"
   ]
  },
  {
   "cell_type": "code",
   "execution_count": 4,
   "metadata": {},
   "outputs": [
    {
     "data": {
      "text/plain": [
       "{'n_vocab': 50257, 'n_ctx': 1024, 'n_embd': 768, 'n_head': 12, 'n_layer': 12}"
      ]
     },
     "execution_count": 4,
     "metadata": {},
     "output_type": "execute_result"
    }
   ],
   "source": [
    "hparams"
   ]
  },
  {
   "cell_type": "code",
   "execution_count": 5,
   "metadata": {},
   "outputs": [
    {
     "name": "stdout",
     "output_type": "stream",
     "text": [
      "{'blocks': [{'attn': {'c_attn': {'b': [2304], 'w': [768, 2304]}, 'c_proj': {'b': [768], 'w': [768, 768]}}, 'ln_1': {'b': [768], 'g': [768]}, 'ln_2': {'b': [768], 'g': [768]}, 'mlp': {'c_fc': {'b': [3072], 'w': [768, 3072]}, 'c_proj': {'b': [768], 'w': [3072, 768]}}}, {'attn': {'c_attn': {'b': [2304], 'w': [768, 2304]}, 'c_proj': {'b': [768], 'w': [768, 768]}}, 'ln_1': {'b': [768], 'g': [768]}, 'ln_2': {'b': [768], 'g': [768]}, 'mlp': {'c_fc': {'b': [3072], 'w': [768, 3072]}, 'c_proj': {'b': [768], 'w': [3072, 768]}}}, {'attn': {'c_attn': {'b': [2304], 'w': [768, 2304]}, 'c_proj': {'b': [768], 'w': [768, 768]}}, 'ln_1': {'b': [768], 'g': [768]}, 'ln_2': {'b': [768], 'g': [768]}, 'mlp': {'c_fc': {'b': [3072], 'w': [768, 3072]}, 'c_proj': {'b': [768], 'w': [3072, 768]}}}, {'attn': {'c_attn': {'b': [2304], 'w': [768, 2304]}, 'c_proj': {'b': [768], 'w': [768, 768]}}, 'ln_1': {'b': [768], 'g': [768]}, 'ln_2': {'b': [768], 'g': [768]}, 'mlp': {'c_fc': {'b': [3072], 'w': [768, 3072]}, 'c_proj': {'b': [768], 'w': [3072, 768]}}}, {'attn': {'c_attn': {'b': [2304], 'w': [768, 2304]}, 'c_proj': {'b': [768], 'w': [768, 768]}}, 'ln_1': {'b': [768], 'g': [768]}, 'ln_2': {'b': [768], 'g': [768]}, 'mlp': {'c_fc': {'b': [3072], 'w': [768, 3072]}, 'c_proj': {'b': [768], 'w': [3072, 768]}}}, {'attn': {'c_attn': {'b': [2304], 'w': [768, 2304]}, 'c_proj': {'b': [768], 'w': [768, 768]}}, 'ln_1': {'b': [768], 'g': [768]}, 'ln_2': {'b': [768], 'g': [768]}, 'mlp': {'c_fc': {'b': [3072], 'w': [768, 3072]}, 'c_proj': {'b': [768], 'w': [3072, 768]}}}, {'attn': {'c_attn': {'b': [2304], 'w': [768, 2304]}, 'c_proj': {'b': [768], 'w': [768, 768]}}, 'ln_1': {'b': [768], 'g': [768]}, 'ln_2': {'b': [768], 'g': [768]}, 'mlp': {'c_fc': {'b': [3072], 'w': [768, 3072]}, 'c_proj': {'b': [768], 'w': [3072, 768]}}}, {'attn': {'c_attn': {'b': [2304], 'w': [768, 2304]}, 'c_proj': {'b': [768], 'w': [768, 768]}}, 'ln_1': {'b': [768], 'g': [768]}, 'ln_2': {'b': [768], 'g': [768]}, 'mlp': {'c_fc': {'b': [3072], 'w': [768, 3072]}, 'c_proj': {'b': [768], 'w': [3072, 768]}}}, {'attn': {'c_attn': {'b': [2304], 'w': [768, 2304]}, 'c_proj': {'b': [768], 'w': [768, 768]}}, 'ln_1': {'b': [768], 'g': [768]}, 'ln_2': {'b': [768], 'g': [768]}, 'mlp': {'c_fc': {'b': [3072], 'w': [768, 3072]}, 'c_proj': {'b': [768], 'w': [3072, 768]}}}, {'attn': {'c_attn': {'b': [2304], 'w': [768, 2304]}, 'c_proj': {'b': [768], 'w': [768, 768]}}, 'ln_1': {'b': [768], 'g': [768]}, 'ln_2': {'b': [768], 'g': [768]}, 'mlp': {'c_fc': {'b': [3072], 'w': [768, 3072]}, 'c_proj': {'b': [768], 'w': [3072, 768]}}}, {'attn': {'c_attn': {'b': [2304], 'w': [768, 2304]}, 'c_proj': {'b': [768], 'w': [768, 768]}}, 'ln_1': {'b': [768], 'g': [768]}, 'ln_2': {'b': [768], 'g': [768]}, 'mlp': {'c_fc': {'b': [3072], 'w': [768, 3072]}, 'c_proj': {'b': [768], 'w': [3072, 768]}}}, {'attn': {'c_attn': {'b': [2304], 'w': [768, 2304]}, 'c_proj': {'b': [768], 'w': [768, 768]}}, 'ln_1': {'b': [768], 'g': [768]}, 'ln_2': {'b': [768], 'g': [768]}, 'mlp': {'c_fc': {'b': [3072], 'w': [768, 3072]}, 'c_proj': {'b': [768], 'w': [3072, 768]}}}], 'ln_f': {'b': [768], 'g': [768]}, 'wpe': [1024, 768], 'wte': [50257, 768]}\n"
     ]
    }
   ],
   "source": [
    "import numpy as np\n",
    "\n",
    "def shape_tree(d):\n",
    "    if isinstance(d, np.ndarray):\n",
    "        return list(d.shape)\n",
    "    elif isinstance(d, list):\n",
    "        return [shape_tree(v) for v in d]\n",
    "    elif isinstance(d, dict):\n",
    "        return {k: shape_tree(v) for k, v in d.items()}\n",
    "    else:\n",
    "        ValueError(\"uh oh\")\n",
    "\n",
    "print(shape_tree(params))\n",
    "\n",
    "# shapes replced with the hparam they correspond to\n",
    "# {\n",
    "#     \"wpe\": [n_ctx, n_embd],\n",
    "#     \"wte\": [n_vocab, n_embd],    \n",
    "#     \"ln_f\": {\"b\": [n_embd], \"g\": [n_embd]},\n",
    "#     \"blocks\": [\n",
    "#         {\n",
    "#             \"attn\": {\n",
    "#                 \"c_attn\": {\"b\": [3*n_embd], \"w\": [n_embd, 3*n_embd]},\n",
    "#                 \"c_proj\": {\"b\": [n_embd], \"w\": [n_embd, n_embd]},\n",
    "#             },\n",
    "#             \"ln_1\": {\"b\": [n_embd], \"g\": [n_embd]},\n",
    "#             \"ln_2\": {\"b\": [n_embd], \"g\": [n_embd]},\n",
    "#             \"mlp\": {\n",
    "#                 \"c_fc\": {\"b\": [4*n_embd], \"w\": [n_embd, 4*n_embd]},\n",
    "#                 \"c_proj\": {\"b\": [n_embd], \"w\": [4*n_embd, n_embd]},\n",
    "#             },\n",
    "#         },\n",
    "#         ... # repeat for n_layers\n",
    "#     ]\n",
    "# }"
   ]
  },
  {
   "cell_type": "code",
   "execution_count": 6,
   "metadata": {},
   "outputs": [
    {
     "name": "stdout",
     "output_type": "stream",
     "text": [
      "model/h0/attn/c_attn/b: (2304,)\n",
      "model/h0/attn/c_attn/w: (768, 2304)\n",
      "model/h0/attn/c_proj/b: (768,)\n",
      "model/h0/attn/c_proj/w: (768, 768)\n",
      "model/h0/ln_1/b: (768,)\n",
      "model/h0/ln_1/g: (768,)\n",
      "model/h0/ln_2/b: (768,)\n",
      "model/h0/ln_2/g: (768,)\n",
      "model/h0/mlp/c_fc/b: (3072,)\n",
      "model/h0/mlp/c_fc/w: (768, 3072)\n",
      "model/h0/mlp/c_proj/b: (768,)\n",
      "model/h0/mlp/c_proj/w: (3072, 768)\n",
      "model/h1/attn/c_attn/b: (2304,)\n",
      "model/h1/attn/c_attn/w: (768, 2304)\n",
      "model/h1/attn/c_proj/b: (768,)\n",
      "model/h1/attn/c_proj/w: (768, 768)\n",
      "model/h1/ln_1/b: (768,)\n",
      "model/h1/ln_1/g: (768,)\n",
      "model/h1/ln_2/b: (768,)\n",
      "model/h1/ln_2/g: (768,)\n",
      "model/h1/mlp/c_fc/b: (3072,)\n",
      "model/h1/mlp/c_fc/w: (768, 3072)\n",
      "model/h1/mlp/c_proj/b: (768,)\n",
      "model/h1/mlp/c_proj/w: (3072, 768)\n",
      "model/h10/attn/c_attn/b: (2304,)\n",
      "model/h10/attn/c_attn/w: (768, 2304)\n",
      "model/h10/attn/c_proj/b: (768,)\n",
      "model/h10/attn/c_proj/w: (768, 768)\n",
      "model/h10/ln_1/b: (768,)\n",
      "model/h10/ln_1/g: (768,)\n",
      "model/h10/ln_2/b: (768,)\n",
      "model/h10/ln_2/g: (768,)\n",
      "model/h10/mlp/c_fc/b: (3072,)\n",
      "model/h10/mlp/c_fc/w: (768, 3072)\n",
      "model/h10/mlp/c_proj/b: (768,)\n",
      "model/h10/mlp/c_proj/w: (3072, 768)\n",
      "model/h11/attn/c_attn/b: (2304,)\n",
      "model/h11/attn/c_attn/w: (768, 2304)\n",
      "model/h11/attn/c_proj/b: (768,)\n",
      "model/h11/attn/c_proj/w: (768, 768)\n",
      "model/h11/ln_1/b: (768,)\n",
      "model/h11/ln_1/g: (768,)\n",
      "model/h11/ln_2/b: (768,)\n",
      "model/h11/ln_2/g: (768,)\n",
      "model/h11/mlp/c_fc/b: (3072,)\n",
      "model/h11/mlp/c_fc/w: (768, 3072)\n",
      "model/h11/mlp/c_proj/b: (768,)\n",
      "model/h11/mlp/c_proj/w: (3072, 768)\n",
      "model/h2/attn/c_attn/b: (2304,)\n",
      "model/h2/attn/c_attn/w: (768, 2304)\n",
      "model/h2/attn/c_proj/b: (768,)\n",
      "model/h2/attn/c_proj/w: (768, 768)\n",
      "model/h2/ln_1/b: (768,)\n",
      "model/h2/ln_1/g: (768,)\n",
      "model/h2/ln_2/b: (768,)\n",
      "model/h2/ln_2/g: (768,)\n",
      "model/h2/mlp/c_fc/b: (3072,)\n",
      "model/h2/mlp/c_fc/w: (768, 3072)\n",
      "model/h2/mlp/c_proj/b: (768,)\n",
      "model/h2/mlp/c_proj/w: (3072, 768)\n",
      "model/h3/attn/c_attn/b: (2304,)\n",
      "model/h3/attn/c_attn/w: (768, 2304)\n",
      "model/h3/attn/c_proj/b: (768,)\n",
      "model/h3/attn/c_proj/w: (768, 768)\n",
      "model/h3/ln_1/b: (768,)\n",
      "model/h3/ln_1/g: (768,)\n",
      "model/h3/ln_2/b: (768,)\n",
      "model/h3/ln_2/g: (768,)\n",
      "model/h3/mlp/c_fc/b: (3072,)\n",
      "model/h3/mlp/c_fc/w: (768, 3072)\n",
      "model/h3/mlp/c_proj/b: (768,)\n",
      "model/h3/mlp/c_proj/w: (3072, 768)\n",
      "model/h4/attn/c_attn/b: (2304,)\n",
      "model/h4/attn/c_attn/w: (768, 2304)\n",
      "model/h4/attn/c_proj/b: (768,)\n",
      "model/h4/attn/c_proj/w: (768, 768)\n",
      "model/h4/ln_1/b: (768,)\n",
      "model/h4/ln_1/g: (768,)\n",
      "model/h4/ln_2/b: (768,)\n",
      "model/h4/ln_2/g: (768,)\n",
      "model/h4/mlp/c_fc/b: (3072,)\n",
      "model/h4/mlp/c_fc/w: (768, 3072)\n",
      "model/h4/mlp/c_proj/b: (768,)\n",
      "model/h4/mlp/c_proj/w: (3072, 768)\n",
      "model/h5/attn/c_attn/b: (2304,)\n",
      "model/h5/attn/c_attn/w: (768, 2304)\n",
      "model/h5/attn/c_proj/b: (768,)\n",
      "model/h5/attn/c_proj/w: (768, 768)\n",
      "model/h5/ln_1/b: (768,)\n",
      "model/h5/ln_1/g: (768,)\n",
      "model/h5/ln_2/b: (768,)\n",
      "model/h5/ln_2/g: (768,)\n",
      "model/h5/mlp/c_fc/b: (3072,)\n",
      "model/h5/mlp/c_fc/w: (768, 3072)\n",
      "model/h5/mlp/c_proj/b: (768,)\n",
      "model/h5/mlp/c_proj/w: (3072, 768)\n",
      "model/h6/attn/c_attn/b: (2304,)\n",
      "model/h6/attn/c_attn/w: (768, 2304)\n",
      "model/h6/attn/c_proj/b: (768,)\n",
      "model/h6/attn/c_proj/w: (768, 768)\n",
      "model/h6/ln_1/b: (768,)\n",
      "model/h6/ln_1/g: (768,)\n",
      "model/h6/ln_2/b: (768,)\n",
      "model/h6/ln_2/g: (768,)\n",
      "model/h6/mlp/c_fc/b: (3072,)\n",
      "model/h6/mlp/c_fc/w: (768, 3072)\n",
      "model/h6/mlp/c_proj/b: (768,)\n",
      "model/h6/mlp/c_proj/w: (3072, 768)\n",
      "model/h7/attn/c_attn/b: (2304,)\n",
      "model/h7/attn/c_attn/w: (768, 2304)\n",
      "model/h7/attn/c_proj/b: (768,)\n",
      "model/h7/attn/c_proj/w: (768, 768)\n",
      "model/h7/ln_1/b: (768,)\n",
      "model/h7/ln_1/g: (768,)\n",
      "model/h7/ln_2/b: (768,)\n",
      "model/h7/ln_2/g: (768,)\n",
      "model/h7/mlp/c_fc/b: (3072,)\n",
      "model/h7/mlp/c_fc/w: (768, 3072)\n",
      "model/h7/mlp/c_proj/b: (768,)\n",
      "model/h7/mlp/c_proj/w: (3072, 768)\n",
      "model/h8/attn/c_attn/b: (2304,)\n",
      "model/h8/attn/c_attn/w: (768, 2304)\n",
      "model/h8/attn/c_proj/b: (768,)\n",
      "model/h8/attn/c_proj/w: (768, 768)\n",
      "model/h8/ln_1/b: (768,)\n",
      "model/h8/ln_1/g: (768,)\n",
      "model/h8/ln_2/b: (768,)\n",
      "model/h8/ln_2/g: (768,)\n",
      "model/h8/mlp/c_fc/b: (3072,)\n",
      "model/h8/mlp/c_fc/w: (768, 3072)\n",
      "model/h8/mlp/c_proj/b: (768,)\n",
      "model/h8/mlp/c_proj/w: (3072, 768)\n",
      "model/h9/attn/c_attn/b: (2304,)\n",
      "model/h9/attn/c_attn/w: (768, 2304)\n",
      "model/h9/attn/c_proj/b: (768,)\n",
      "model/h9/attn/c_proj/w: (768, 768)\n",
      "model/h9/ln_1/b: (768,)\n",
      "model/h9/ln_1/g: (768,)\n",
      "model/h9/ln_2/b: (768,)\n",
      "model/h9/ln_2/g: (768,)\n",
      "model/h9/mlp/c_fc/b: (3072,)\n",
      "model/h9/mlp/c_fc/w: (768, 3072)\n",
      "model/h9/mlp/c_proj/b: (768,)\n",
      "model/h9/mlp/c_proj/w: (3072, 768)\n",
      "model/ln_f/b: (768,)\n",
      "model/ln_f/g: (768,)\n",
      "model/wpe: (1024, 768)\n",
      "model/wte: (50257, 768)\n"
     ]
    }
   ],
   "source": [
    "import tensorflow as tf\n",
    "tf_ckpt_path = tf.train.latest_checkpoint(\"models/124M\")\n",
    "for name, _ in tf.train.list_variables(tf_ckpt_path):\n",
    "    arr = tf.train.load_variable(tf_ckpt_path, name).squeeze()\n",
    "    print(f\"{name}: {arr.shape}\")"
   ]
  },
  {
   "cell_type": "code",
   "execution_count": 7,
   "metadata": {},
   "outputs": [
    {
     "data": {
      "text/plain": [
       "array([[ 8.41191991e-01,  1.95459769e+00],\n",
       "       [-7.02459482e-05,  0.00000000e+00]])"
      ]
     },
     "execution_count": 7,
     "metadata": {},
     "output_type": "execute_result"
    }
   ],
   "source": [
    "## GELU (Gaussian Error Linear Unit) activation function\n",
    "def gelu(x):\n",
    "    return 0.5 * x * (1 + np.tanh(np.sqrt(2 / np.pi) * (x + 0.044715 * x**3)))\n",
    "gelu(np.array([[1, 2], [-4, 0]]))"
   ]
  },
  {
   "cell_type": "code",
   "execution_count": 8,
   "metadata": {},
   "outputs": [
    {
     "data": {
      "text/plain": [
       "(array([[2.74878501e-43, 1.00000000e+00],\n",
       "        [6.69285092e-03, 9.93307149e-01]]),\n",
       " array([1., 1.]))"
      ]
     },
     "execution_count": 8,
     "metadata": {},
     "output_type": "execute_result"
    }
   ],
   "source": [
    "## Softmax\n",
    "def softmax(x):\n",
    "    exp_x = np.exp(x - np.max(x, axis=-1, keepdims=True))\n",
    "    return exp_x / np.sum(exp_x, axis=-1, keepdims=True)\n",
    "x = softmax(np.array([[2, 100], [-5, 0]]))\n",
    "x, x.sum(axis=-1)"
   ]
  },
  {
   "cell_type": "code",
   "execution_count": 9,
   "metadata": {},
   "outputs": [
    {
     "data": {
      "text/plain": [
       "(array([[-0.70709087, -0.70709087,  1.41418174],\n",
       "        [-1.39700038,  0.50800014,  0.88900024]]),\n",
       " array([0.999955  , 0.99999855]),\n",
       " array([-2.96059473e-16, -3.70074342e-17]))"
      ]
     },
     "execution_count": 9,
     "metadata": {},
     "output_type": "execute_result"
    }
   ],
   "source": [
    "## Layer normalization\n",
    "def layer_norm(x, g, b, eps: float = 1e-5):\n",
    "    mean = np.mean(x, axis=-1, keepdims=True)\n",
    "    variance = np.var(x, axis=-1, keepdims=True)\n",
    "    x = (x - mean) / np.sqrt(variance + eps)  # normalize x to have mean=0 and var=1 over last axis\n",
    "    return g * x + b  # scale and offset with gamma/beta params\n",
    "x = np.array([[2, 2, 3], [-5, 0, 1]])\n",
    "x = layer_norm(x, g=np.ones(x.shape[-1]), b=np.zeros(x.shape[-1]))\n",
    "x, x.var(axis=-1), x.mean(axis=-1)\n"
   ]
  },
  {
   "cell_type": "code",
   "execution_count": 10,
   "metadata": {},
   "outputs": [
    {
     "data": {
      "text/plain": [
       "((64, 784), (64, 10))"
      ]
     },
     "execution_count": 10,
     "metadata": {},
     "output_type": "execute_result"
    }
   ],
   "source": [
    "## Linear layer\n",
    "def linear(x, w, b):  # [m, in], [in, out], [out] -> [m, out]\n",
    "    return x @ w + b\n",
    "x = np.random.normal(size=(64, 784)) # input dim = 784, batch/sequence dim = 64\n",
    "w = np.random.normal(size=(784, 10)) # output dim = 10\n",
    "b = np.random.normal(size=(10,))\n",
    "x.shape, linear(x, w, b).shape # shapes before / after linear projection"
   ]
  },
  {
   "cell_type": "code",
   "execution_count": 11,
   "metadata": {},
   "outputs": [
    {
     "name": "stderr",
     "output_type": "stream",
     "text": [
      "generating: 100%|██████████| 8/8 [00:11<00:00,  1.43s/it]\n"
     ]
    },
    {
     "data": {
      "text/plain": [
       "' the most powerful machines on the planet.'"
      ]
     },
     "execution_count": 11,
     "metadata": {},
     "output_type": "execute_result"
    }
   ],
   "source": [
    "# Example inference\n",
    "import gpt2\n",
    "gpt2.main(prompt=\"Alan Turing theorized that computers would one day become\", n_tokens_to_generate=8)"
   ]
  }
 ],
 "metadata": {
  "kernelspec": {
   "display_name": "picoGPT",
   "language": "python",
   "name": "python3"
  },
  "language_info": {
   "codemirror_mode": {
    "name": "ipython",
    "version": 3
   },
   "file_extension": ".py",
   "mimetype": "text/x-python",
   "name": "python",
   "nbconvert_exporter": "python",
   "pygments_lexer": "ipython3",
   "version": "3.10.9"
  },
  "orig_nbformat": 4,
  "vscode": {
   "interpreter": {
    "hash": "dafca1876563b4918f2ef2d5d3e52ccf5cff7d33d517ade731fac316c8b42e1a"
   }
  }
 },
 "nbformat": 4,
 "nbformat_minor": 2
}
